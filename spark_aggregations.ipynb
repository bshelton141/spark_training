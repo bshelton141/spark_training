{
 "cells": [
  {
   "cell_type": "code",
   "execution_count": 1,
   "metadata": {
    "collapsed": true
   },
   "outputs": [],
   "source": [
    "import org.apache.spark.sql.functions._\n",
    "import org.apache.spark.sql.types._\n",
    "\n",
    "val sqlC = new org.apache.spark.sql.SQLContext(sc)\n",
    "import sqlC.implicits._\n",
    "\n",
    "val rr = spark.read.format(\"csv\").\n",
    "    option(\"header\", \"true\").\n",
    "    option(\"inferSchema\", \"true\").\n",
    "    load(\"Documents/kaggle/russian_realestate/train.csv\").\n",
    "    select(\"id\",\"timestamp\",\"full_sq\",\"build_year\",\"num_room\",\"price_doc\", \"state\")"
   ]
  },
  {
   "cell_type": "code",
   "execution_count": 2,
   "metadata": {},
   "outputs": [
    {
     "name": "stdout",
     "output_type": "stream",
     "text": [
      "+-----+---------+\n",
      "|state|count(id)|\n",
      "+-----+---------+\n",
      "|    2|     5844|\n",
      "|    3|     5790|\n",
      "|    1|     4855|\n",
      "|    4|      422|\n",
      "|   33|        1|\n",
      "+-----+---------+\n",
      "\n"
     ]
    }
   ],
   "source": [
    "//view the record count by state\n",
    "\n",
    "  \n",
    "rr.where($\"state\" =!= \"NA\").\n",
    "    groupBy($\"state\").\n",
    "    agg(count(\"id\")).\n",
    "    sort($\"count(id)\".desc).\n",
    "    show"
   ]
  },
  {
   "cell_type": "code",
   "execution_count": 5,
   "metadata": {
    "collapsed": true
   },
   "outputs": [],
   "source": [
    "//change timestamp type to date\n",
    "\n",
    "\n",
    "val rr_date = rr.withColumn(\"timestamp\", \n",
    "                            'timestamp.cast(\"date\"))\n",
    "                            \n",
    "rr_date.createOrReplaceTempView(\"rr_date\")"
   ]
  },
  {
   "cell_type": "code",
   "execution_count": 14,
   "metadata": {
    "scrolled": true
   },
   "outputs": [
    {
     "name": "stdout",
     "output_type": "stream",
     "text": [
      "\r",
      "                                                                                \r",
      "+-----+----------+-------+----------+--------+---------+-----+-------------------+\n",
      "|   id| timestamp|full_sq|build_year|num_room|price_doc|state|               rank|\n",
      "+-----+----------+-------+----------+--------+---------+-----+-------------------+\n",
      "| 9672|2013-08-06|     78|      2012|       2|  7074000|    1|                0.0|\n",
      "|13588|2014-01-09|    102|      2014|       3| 16861350|    1|                0.0|\n",
      "|13601|2014-01-09|    121|      2012|       3|  9007500|    1|0.16666666666666666|\n",
      "|13581|2014-01-09|     86|        NA|       3|  8500800|    1| 0.3333333333333333|\n",
      "|13587|2014-01-09|     79|        NA|       3|  7528752|    1|                0.5|\n",
      "|13586|2014-01-09|     52|        NA|       2|  5326755|    1| 0.6666666666666666|\n",
      "|13579|2014-01-09|     45|        NA|       1|  2937917|    1| 0.8333333333333334|\n",
      "|13585|2014-01-09|     29|      2014|       1|  2027818|    1|                1.0|\n",
      "|28069|2015-02-25|     59|        NA|       2|  8600130|    1|                0.0|\n",
      "|28077|2015-02-25|    134|        NA|       3|  6336347|    1|                0.2|\n",
      "|28079|2015-02-25|     66|      2014|       2|  4473000|    1|                0.4|\n",
      "|28074|2015-02-25|     42|        NA|       1|  4348558|    1|                0.6|\n",
      "|28072|2015-02-25|     67|      2015|       2|  4120346|    1|                0.8|\n",
      "|28068|2015-02-25|     39|      2015|       1|  3400000|    1|                1.0|\n",
      "|29770|2015-05-18|     81|      2018|       2| 18800000|    1|                0.0|\n",
      "|29772|2015-05-18|     74|      2015|       2| 13149382|    1|                0.1|\n",
      "|29776|2015-05-18|     65|      2017|       2| 12025000|    1|                0.2|\n",
      "|29773|2015-05-18|     77|         0|       3|  9111009|    1|                0.3|\n",
      "|29757|2015-05-18|     82|        NA|       3|  7975752|    1|                0.4|\n",
      "|29766|2015-05-18|     50|      2015|       1|  7350000|    1|                0.5|\n",
      "+-----+----------+-------+----------+--------+---------+-----+-------------------+\n",
      "only showing top 20 rows\n",
      "\n"
     ]
    }
   ],
   "source": [
    "/*WINDOW EXAMPLE #1\n",
    "  compute the \"price_doc\" percentile ranking\n",
    "  for each \"state\" and \"timestamp\" combination\n",
    "  */\n",
    "\n",
    "import org.apache.spark.sql.expressions.Window\n",
    "\n",
    "val windowSpec = Window.\n",
    "    partitionBy(\"state\", \"timestamp\").\n",
    "    orderBy($\"price_doc\".desc).\n",
    "    rowsBetween(Window.unboundedPreceding, Window.currentRow)\n",
    "    \n",
    "rr_date.\n",
    "    withColumn(\"rank\", percent_rank.over(windowSpec)).show()"
   ]
  },
  {
   "cell_type": "code",
   "execution_count": 8,
   "metadata": {},
   "outputs": [
    {
     "name": "stdout",
     "output_type": "stream",
     "text": [
      "+-----+----+-----+-------------+----------+----------+\n",
      "|month|year|state|monthly_sales|sale_count|moving_avg|\n",
      "+-----+----+-----+-------------+----------+----------+\n",
      "|    5|2013|    3|     30950000|         4|  30950000|\n",
      "|    6|2013|    3|    217846600|        32| 124398300|\n",
      "|    7|2013|    3|    521778056|        70| 256858218|\n",
      "|    8|2013|    3|    923726417|       126| 554450357|\n",
      "|    9|2013|    3|   1357393641|       184| 934299371|\n",
      "|   10|2013|    3|   1994553122|       276|1425224393|\n",
      "|   11|2013|    3|   2123674708|       276|1825207157|\n",
      "|   12|2013|    3|   2000393830|       255|2039540553|\n",
      "|    1|2014|    3|   1770753850|       235|1964940796|\n",
      "|    2|2014|    3|   2450430643|       327|2073859441|\n",
      "|    3|2014|    3|   2587131989|       324|2147483647|\n",
      "|    4|2014|    3|   2851532969|       355|2147483647|\n",
      "|    5|2014|    3|   2639660342|       310|2147483647|\n",
      "|    6|2014|    3|   2663189543|       346|2147483647|\n",
      "|    7|2014|    3|   1697161681|       223|2147483647|\n",
      "|    8|2014|    3|   2062447353|       249|2140932859|\n",
      "|    9|2014|    3|   2605980676|       310|2121863236|\n",
      "|   10|2014|    3|   2419792639|       299|2147483647|\n",
      "|   11|2014|    3|   2453672904|       313|2147483647|\n",
      "|   12|2014|    3|   4153803746|       482|2147483647|\n",
      "+-----+----+-----+-------------+----------+----------+\n",
      "only showing top 20 rows\n",
      "\n"
     ]
    }
   ],
   "source": [
    "/*WINDOW EXAMPLE #2\n",
    "  compute the 3 month moving average by state\n",
    "  */\n",
    "\n",
    "val rr_monthly = rr_date.\n",
    "    where($\"state\" =!= \"NA\").\n",
    "    withColumn(\"month\", month($\"timestamp\")).\n",
    "    withColumn(\"year\", year($\"timestamp\")).\n",
    "    groupBy($\"month\", $\"year\", $\"state\").\n",
    "    agg(expr(\"sum(price_doc) as monthly_sales\"),\n",
    "        expr(\"count(price_doc) as sale_count\")).\n",
    "    sort($\"state\", $\"year\", $\"month\")\n",
    "\n",
    "val windowSpec2 = Window.\n",
    "    partitionBy(\"state\").\n",
    "    orderBy($\"year\", $\"month\").\n",
    "    rowsBetween(-2, 0)\n",
    "    \n",
    "rr_monthly.\n",
    "    withColumn(\"moving_avg\", avg($\"monthly_sales\").\n",
    "    over(windowSpec2)).\n",
    "    withColumn(\"moving_avg\", 'moving_avg.cast(\"Int\")).\n",
    "    show()"
   ]
  },
  {
   "cell_type": "code",
   "execution_count": 13,
   "metadata": {},
   "outputs": [
    {
     "name": "stdout",
     "output_type": "stream",
     "text": [
      "+-----+----+-----+-------------+----------+----------+----------+----------+\n",
      "|month|year|state|monthly_sales|sale_count|  month_id|prev_month|month_diff|\n",
      "+-----+----+-----+-------------+----------+----------+----------+----------+\n",
      "|    5|2013|    3|     30950000|         4|2013-05-01|      null|      null|\n",
      "|    6|2013|    3|    217846600|        32|2013-06-01|2013-05-01|       1.0|\n",
      "|    7|2013|    3|    521778056|        70|2013-07-01|2013-06-01|       1.0|\n",
      "|    8|2013|    3|    923726417|       126|2013-08-01|2013-07-01|       1.0|\n",
      "|    9|2013|    3|   1357393641|       184|2013-09-01|2013-08-01|       1.0|\n",
      "|   10|2013|    3|   1994553122|       276|2013-10-01|2013-09-01|       1.0|\n",
      "|   11|2013|    3|   2123674708|       276|2013-11-01|2013-10-01|       1.0|\n",
      "|   12|2013|    3|   2000393830|       255|2013-12-01|2013-11-01|       1.0|\n",
      "|    1|2014|    3|   1770753850|       235|2014-01-01|2013-12-01|       1.0|\n",
      "|    2|2014|    3|   2450430643|       327|2014-02-01|2014-01-01|       1.0|\n",
      "|    3|2014|    3|   2587131989|       324|2014-03-01|2014-02-01|       1.0|\n",
      "|    4|2014|    3|   2851532969|       355|2014-04-01|2014-03-01|       1.0|\n",
      "|    5|2014|    3|   2639660342|       310|2014-05-01|2014-04-01|       1.0|\n",
      "|    6|2014|    3|   2663189543|       346|2014-06-01|2014-05-01|       1.0|\n",
      "|    7|2014|    3|   1697161681|       223|2014-07-01|2014-06-01|       1.0|\n",
      "|    8|2014|    3|   2062447353|       249|2014-08-01|2014-07-01|       1.0|\n",
      "|    9|2014|    3|   2605980676|       310|2014-09-01|2014-08-01|       1.0|\n",
      "|   10|2014|    3|   2419792639|       299|2014-10-01|2014-09-01|       1.0|\n",
      "|   11|2014|    3|   2453672904|       313|2014-11-01|2014-10-01|       1.0|\n",
      "|   12|2014|    3|   4153803746|       482|2014-12-01|2014-11-01|       1.0|\n",
      "+-----+----+-----+-------------+----------+----------+----------+----------+\n",
      "only showing top 20 rows\n",
      "\n"
     ]
    }
   ],
   "source": [
    "/*WINDOW EXAMPLE #3\n",
    "  count successive months of sales by state\n",
    " */\n",
    "     \n",
    "val r2 = rr_monthly.\n",
    "     withColumn(\"month_id\", concat($\"year\", lit(\"-\"), $\"month\", lit(\"-01\")))\n",
    "     \n",
    "val r3 = r2.withColumn(\"month_id\", 'month_id.cast(\"date\")) \n",
    "\n",
    "val windowSpec3 = Window.\n",
    "    partitionBy(\"state\").\n",
    "    orderBy($\"month_id\")\n",
    "    \n",
    "r3.\n",
    "    withColumn(\"prev_month\",\n",
    "                lag($\"month_id\", 1).over(windowSpec3)).\n",
    "    withColumn(\"month_diff\", months_between($\"month_id\", $\"prev_month\")).\n",
    "    show(20)\n",
    "\n",
    "\n"
   ]
  },
  {
   "cell_type": "code",
   "execution_count": 9,
   "metadata": {},
   "outputs": [
    {
     "name": "stdout",
     "output_type": "stream",
     "text": [
      "+-----+-----+------------+----------+----------+\n",
      "| year|state| total_sales|sale_count| avg_sales|\n",
      "+-----+-----+------------+----------+----------+\n",
      "|total|total|129189711517|     16912|1266565799|\n",
      "| 2013|total| 21826233730|      3095| 727541124|\n",
      "| 2013|    1|  4704118611|       717| 588014826|\n",
      "| 2013|    2|  6956268549|      1065| 993752649|\n",
      "| 2013|    3|  9170316374|      1223|1146289546|\n",
      "| 2013|   33|     9000000|         1|   9000000|\n",
      "| 2013|    4|   986530196|        89| 164421699|\n",
      "| 2014|total| 84002476237|     11040|1750051588|\n",
      "| 2014|    1| 21631815551|      3003|1802651295|\n",
      "| 2014|    2| 28112799931|      3981|2147483647|\n",
      "| 2014|    3| 30355558335|      3773|2147483647|\n",
      "| 2014|    4|  3902302420|       283| 325191868|\n",
      "| 2015|total| 23361001550|      2777| 973375064|\n",
      "| 2015|    1|  9180526281|      1135|1530087713|\n",
      "| 2015|    2|  6189946115|       798|1031657685|\n",
      "| 2015|    3|  7247573933|       794|1207928988|\n",
      "| 2015|    4|   742955221|        50| 123825870|\n",
      "+-----+-----+------------+----------+----------+\n",
      "\n"
     ]
    }
   ],
   "source": [
    "/*ROLLUP EXAMPLE\n",
    "  show total sales, avg monthly sales and total sale count \n",
    "  rolled up by total, by year, by year + state\n",
    " */\n",
    " \n",
    "val rr_rolledup = rr_monthly.rollup(\"year\", \"state\").\n",
    "  agg(expr(\"sum(monthly_sales) as total_sales\"), \n",
    "      expr(\"avg(monthly_sales) as avg_sales\"),\n",
    "      expr(\"sum(sale_count) as sale_count\")).\n",
    "  select(\"year\", \"state\", \"total_sales\", \"sale_count\", \"avg_sales\").\n",
    "  sort($\"year\", $\"state\").\n",
    "  withColumn(\"avg_sales\", 'avg_sales.cast(\"Int\"))\n",
    "  \n",
    "rr_rolledup.\n",
    "    withColumn(\"year\", 'year.cast(\"String\")).\n",
    "    withColumn(\"state\", 'state.cast(\"String\")).\n",
    "    na.fill(Map(\"year\" -> \"total\", \n",
    "                \"state\" -> \"total\")).\n",
    "    show()"
   ]
  },
  {
   "cell_type": "code",
   "execution_count": 11,
   "metadata": {},
   "outputs": [
    {
     "name": "stdout",
     "output_type": "stream",
     "text": [
      "\r",
      "                                                                                \r",
      "+-----+-----+------------+----------+----------+\n",
      "| year|state| total_sales|sale_count| avg_sales|\n",
      "+-----+-----+------------+----------+----------+\n",
      "|total|total|129189711517|     16912|1266565799|\n",
      "|total|    1| 35516460443|      4855|1366017709|\n",
      "|total|    2| 41259014595|      5844|1650360583|\n",
      "|total|    3| 46773448642|      5790|1798978793|\n",
      "|total|   33|     9000000|         1|   9000000|\n",
      "|total|    4|  5631787837|       422| 234657826|\n",
      "| 2013|total| 21826233730|      3095| 727541124|\n",
      "| 2013|    1|  4704118611|       717| 588014826|\n",
      "| 2013|    2|  6956268549|      1065| 993752649|\n",
      "| 2013|    3|  9170316374|      1223|1146289546|\n",
      "| 2013|   33|     9000000|         1|   9000000|\n",
      "| 2013|    4|   986530196|        89| 164421699|\n",
      "| 2014|total| 84002476237|     11040|1750051588|\n",
      "| 2014|    1| 21631815551|      3003|1802651295|\n",
      "| 2014|    2| 28112799931|      3981|2147483647|\n",
      "| 2014|    3| 30355558335|      3773|2147483647|\n",
      "| 2014|    4|  3902302420|       283| 325191868|\n",
      "| 2015|total| 23361001550|      2777| 973375064|\n",
      "| 2015|    1|  9180526281|      1135|1530087713|\n",
      "| 2015|    2|  6189946115|       798|1031657685|\n",
      "+-----+-----+------------+----------+----------+\n",
      "only showing top 20 rows\n",
      "\n"
     ]
    }
   ],
   "source": [
    "/*CUBED EXAMPLE\n",
    "  show total sales, avg monthly sales and total sale count \n",
    "  cubeded up by total, by year, by year + state\n",
    "  the difference between cube and rollup is that cube totals \n",
    "  for the first sort column by all other columns\n",
    " */\n",
    " \n",
    "val rr_cubed = rr_monthly.cube(\"year\", \"state\").\n",
    "  agg(expr(\"sum(monthly_sales) as total_sales\"), \n",
    "      expr(\"avg(monthly_sales) as avg_sales\"),\n",
    "      expr(\"sum(sale_count) as sale_count\")).\n",
    "  select(\"year\", \"state\", \"total_sales\", \"sale_count\", \"avg_sales\").\n",
    "  sort($\"year\", $\"state\").\n",
    "  withColumn(\"avg_sales\", 'avg_sales.cast(\"Int\"))\n",
    "  \n",
    "rr_cubed.\n",
    "    withColumn(\"year\", 'year.cast(\"String\")).\n",
    "    withColumn(\"state\", 'state.cast(\"String\")).\n",
    "    na.fill(Map(\"year\" -> \"total\", \n",
    "                \"state\" -> \"total\")).\n",
    "    show()"
   ]
  },
  {
   "cell_type": "code",
   "execution_count": 12,
   "metadata": {},
   "outputs": [
    {
     "name": "stdout",
     "output_type": "stream",
     "text": [
      "+----+-----------+-----------+-----------+-------+----------+\n",
      "|year|          1|          2|          3|     33|         4|\n",
      "+----+-----------+-----------+-----------+-------+----------+\n",
      "|2013| 4704118611| 6956268549| 9170316374|9000000| 986530196|\n",
      "|2014|21631815551|28112799931|30355558335|      0|3902302420|\n",
      "|2015| 9180526281| 6189946115| 7247573933|      0| 742955221|\n",
      "+----+-----------+-----------+-----------+-------+----------+\n",
      "\n"
     ]
    }
   ],
   "source": [
    "/*PIVOT EXAMPLE\n",
    "  equivelant to R's dcast\n",
    " */\n",
    "\n",
    "val rr_pivot = rr_monthly.\n",
    "  groupBy(\"year\").\n",
    "  pivot(\"state\").\n",
    "  agg(expr(\"sum(monthly_sales) as total_sales\"))\n",
    "  \n",
    "rr_pivot.sort(\"year\").na.fill(0).show()"
   ]
  }
 ],
 "metadata": {
  "kernelspec": {
   "display_name": "Spark - Scala",
   "language": "scala",
   "name": "spark_scala"
  },
  "language_info": {
   "file_extension": ".scala",
   "name": "scala",
   "version": "2.11.8"
  }
 },
 "nbformat": 4,
 "nbformat_minor": 2
}
