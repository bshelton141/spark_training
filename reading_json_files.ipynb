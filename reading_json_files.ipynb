{
 "cells": [
  {
   "cell_type": "markdown",
   "metadata": {},
   "source": [
    "# Reading JSON Files into DataFrames\n",
    "\n",
    "This notebook shows several examples of how to import and transform JSON files into Spark DataFrames, using Scala."
   ]
  },
  {
   "cell_type": "code",
   "execution_count": 69,
   "metadata": {},
   "outputs": [
    {
     "name": "stdout",
     "output_type": "stream",
     "text": [
      "root\n",
      " |-- query: struct (nullable = true)\n",
      " |    |-- count: long (nullable = true)\n",
      " |    |-- created: string (nullable = true)\n",
      " |    |-- lang: string (nullable = true)\n",
      " |    |-- results: struct (nullable = true)\n",
      " |    |    |-- channel: struct (nullable = true)\n",
      " |    |    |    |-- astronomy: struct (nullable = true)\n",
      " |    |    |    |    |-- sunrise: string (nullable = true)\n",
      " |    |    |    |    |-- sunset: string (nullable = true)\n",
      " |    |    |    |-- atmosphere: struct (nullable = true)\n",
      " |    |    |    |    |-- humidity: string (nullable = true)\n",
      " |    |    |    |    |-- pressure: string (nullable = true)\n",
      " |    |    |    |    |-- rising: string (nullable = true)\n",
      " |    |    |    |    |-- visibility: string (nullable = true)\n",
      " |    |    |    |-- description: string (nullable = true)\n",
      " |    |    |    |-- image: struct (nullable = true)\n",
      " |    |    |    |    |-- height: string (nullable = true)\n",
      " |    |    |    |    |-- link: string (nullable = true)\n",
      " |    |    |    |    |-- title: string (nullable = true)\n",
      " |    |    |    |    |-- url: string (nullable = true)\n",
      " |    |    |    |    |-- width: string (nullable = true)\n",
      " |    |    |    |-- item: struct (nullable = true)\n",
      " |    |    |    |    |-- condition: struct (nullable = true)\n",
      " |    |    |    |    |    |-- code: string (nullable = true)\n",
      " |    |    |    |    |    |-- date: string (nullable = true)\n",
      " |    |    |    |    |    |-- temp: string (nullable = true)\n",
      " |    |    |    |    |    |-- text: string (nullable = true)\n",
      " |    |    |    |    |-- description: string (nullable = true)\n",
      " |    |    |    |    |-- forecast: array (nullable = true)\n",
      " |    |    |    |    |    |-- element: struct (containsNull = true)\n",
      " |    |    |    |    |    |    |-- code: string (nullable = true)\n",
      " |    |    |    |    |    |    |-- date: string (nullable = true)\n",
      " |    |    |    |    |    |    |-- day: string (nullable = true)\n",
      " |    |    |    |    |    |    |-- high: string (nullable = true)\n",
      " |    |    |    |    |    |    |-- low: string (nullable = true)\n",
      " |    |    |    |    |    |    |-- text: string (nullable = true)\n",
      " |    |    |    |    |-- guid: struct (nullable = true)\n",
      " |    |    |    |    |    |-- isPermaLink: string (nullable = true)\n",
      " |    |    |    |    |-- lat: string (nullable = true)\n",
      " |    |    |    |    |-- link: string (nullable = true)\n",
      " |    |    |    |    |-- long: string (nullable = true)\n",
      " |    |    |    |    |-- pubDate: string (nullable = true)\n",
      " |    |    |    |    |-- title: string (nullable = true)\n",
      " |    |    |    |-- language: string (nullable = true)\n",
      " |    |    |    |-- lastBuildDate: string (nullable = true)\n",
      " |    |    |    |-- link: string (nullable = true)\n",
      " |    |    |    |-- location: struct (nullable = true)\n",
      " |    |    |    |    |-- city: string (nullable = true)\n",
      " |    |    |    |    |-- country: string (nullable = true)\n",
      " |    |    |    |    |-- region: string (nullable = true)\n",
      " |    |    |    |-- title: string (nullable = true)\n",
      " |    |    |    |-- ttl: string (nullable = true)\n",
      " |    |    |    |-- units: struct (nullable = true)\n",
      " |    |    |    |    |-- distance: string (nullable = true)\n",
      " |    |    |    |    |-- pressure: string (nullable = true)\n",
      " |    |    |    |    |-- speed: string (nullable = true)\n",
      " |    |    |    |    |-- temperature: string (nullable = true)\n",
      " |    |    |    |-- wind: struct (nullable = true)\n",
      " |    |    |    |    |-- chill: string (nullable = true)\n",
      " |    |    |    |    |-- direction: string (nullable = true)\n",
      " |    |    |    |    |-- speed: string (nullable = true)\n",
      "\n"
     ]
    }
   ],
   "source": [
    "import org.apache.spark.sql.functions._\n",
    "import org.apache.spark.sql.types._\n",
    "\n",
    "val sqlC = new org.apache.spark.sql.SQLContext(sc)\n",
    "import sqlC.implicits._\n",
    "\n",
    "val test = spark.read.format(\"json\").load(\"Downloads/yql.json\")\n",
    "\n",
    "test.printSchema()"
   ]
  },
  {
   "cell_type": "code",
   "execution_count": 70,
   "metadata": {},
   "outputs": [
    {
     "name": "stdout",
     "output_type": "stream",
     "text": [
      "+--------------------+--------+----------+-----------+-----------+-------------+------------+\n",
      "|             created|     lat|      long|temperature|       date|forecast_high|forecast_low|\n",
      "+--------------------+--------+----------+-----------+-----------+-------------+------------+\n",
      "|2017-11-08T14:57:15Z|40.71455|-74.007118|          F|08 Nov 2017|           48|          39|\n",
      "|2017-11-08T14:57:15Z|40.71455|-74.007118|          F|09 Nov 2017|           52|          39|\n",
      "|2017-11-08T14:57:15Z|40.71455|-74.007118|          F|10 Nov 2017|           47|          27|\n",
      "|2017-11-08T14:57:15Z|40.71455|-74.007118|          F|11 Nov 2017|           40|          25|\n",
      "|2017-11-08T14:57:15Z|40.71455|-74.007118|          F|12 Nov 2017|           48|          33|\n",
      "|2017-11-08T14:57:15Z|40.71455|-74.007118|          F|13 Nov 2017|           51|          45|\n",
      "|2017-11-08T14:57:15Z|40.71455|-74.007118|          F|14 Nov 2017|           53|          43|\n",
      "|2017-11-08T14:57:15Z|40.71455|-74.007118|          F|15 Nov 2017|           52|          39|\n",
      "|2017-11-08T14:57:15Z|40.71455|-74.007118|          F|16 Nov 2017|           54|          43|\n",
      "|2017-11-08T14:57:15Z|40.71455|-74.007118|          F|17 Nov 2017|           54|          44|\n",
      "+--------------------+--------+----------+-----------+-----------+-------------+------------+\n",
      "\n"
     ]
    }
   ],
   "source": [
    "val testFinal = test.\n",
    "    select(\n",
    "        \"query.created\",\n",
    "        \"query.results.channel.item.lat\",\n",
    "        \"query.results.channel.item.long\",\n",
    "        \"query.results.channel.units.temperature\",\n",
    "        \"query.results.channel.item.forecast\").\n",
    "    withColumn(\"forecast_explode\", explode($\"forecast\")).\n",
    "    withColumn(\"date\", $\"forecast_explode.date\").\n",
    "    withColumn(\"forecast_high\", $\"forecast_explode.high\").\n",
    "    withColumn(\"forecast_low\", $\"forecast_explode.low\").\n",
    "    drop($\"forecast\").\n",
    "    drop($\"forecast_explode\")\n",
    "    \n",
    "testFinal.show()"
   ]
  },
  {
   "cell_type": "code",
   "execution_count": 71,
   "metadata": {},
   "outputs": [
    {
     "name": "stdout",
     "output_type": "stream",
     "text": [
      "root\n",
      " |-- IATA: string (nullable = true)\n",
      " |-- ICAO: string (nullable = true)\n",
      " |-- city: string (nullable = true)\n",
      " |-- delay: string (nullable = true)\n",
      " |-- name: string (nullable = true)\n",
      " |-- state: string (nullable = true)\n",
      " |-- status: struct (nullable = true)\n",
      " |    |-- avgDelay: string (nullable = true)\n",
      " |    |-- closureBegin: string (nullable = true)\n",
      " |    |-- closureEnd: string (nullable = true)\n",
      " |    |-- endTime: string (nullable = true)\n",
      " |    |-- maxDelay: string (nullable = true)\n",
      " |    |-- minDelay: string (nullable = true)\n",
      " |    |-- reason: string (nullable = true)\n",
      " |    |-- trend: string (nullable = true)\n",
      " |    |-- type: string (nullable = true)\n",
      " |-- weather: struct (nullable = true)\n",
      " |    |-- meta: struct (nullable = true)\n",
      " |    |    |-- credit: string (nullable = true)\n",
      " |    |    |-- updated: string (nullable = true)\n",
      " |    |    |-- url: string (nullable = true)\n",
      " |    |-- temp: string (nullable = true)\n",
      " |    |-- visibility: double (nullable = true)\n",
      " |    |-- weather: string (nullable = true)\n",
      " |    |-- wind: string (nullable = true)\n",
      "\n"
     ]
    }
   ],
   "source": [
    "val airports = spark.read.format(\"json\").load(\"Documents/jsons/airports/*.json\")\n",
    "\n",
    "airports.printSchema()"
   ]
  },
  {
   "cell_type": "code",
   "execution_count": 72,
   "metadata": {},
   "outputs": [
    {
     "name": "stdout",
     "output_type": "stream",
     "text": [
      "+----+-----------+-------------+---------------+----------+-------------+--------------+\n",
      "|IATA|       city|        state|           temp|visibility|      weather|       updated|\n",
      "+----+-----------+-------------+---------------+----------+-------------+--------------+\n",
      "| BOS|     Boston|Massachusetts| 44.0 F (6.7 C)|      10.0| A Few Clouds| 1:54 PM Local|\n",
      "| LAX|Los Angeles|   California|73.0 F (22.8 C)|      10.0|Partly Cloudy|10:53 AM Local|\n",
      "| JFK|   New York|     New York| 48.0 F (8.9 C)|      10.0|Mostly Cloudy| 1:51 PM Local|\n",
      "| ORD|    Chicago|     Illinois| 45.0 F (7.2 C)|      10.0| A Few Clouds|12:51 PM Local|\n",
      "+----+-----------+-------------+---------------+----------+-------------+--------------+\n",
      "\n"
     ]
    }
   ],
   "source": [
    "airports.select(\n",
    "        \"IATA\", \n",
    "        \"city\", \n",
    "        \"state\",\n",
    "        \"weather.temp\",\n",
    "        \"weather.visibility\",\n",
    "        \"weather.weather\",\n",
    "        \"weather.meta.updated\").\n",
    "    show()"
   ]
  },
  {
   "cell_type": "code",
   "execution_count": 73,
   "metadata": {},
   "outputs": [
    {
     "name": "stdout",
     "output_type": "stream",
     "text": [
      "root\n",
      " |-- total_population: array (nullable = true)\n",
      " |    |-- element: struct (containsNull = true)\n",
      " |    |    |-- date: string (nullable = true)\n",
      " |    |    |-- population: long (nullable = true)\n",
      "\n"
     ]
    }
   ],
   "source": [
    "val pops = spark.read.format(\"json\").load(\"Documents/jsons/populations/*.json\")\n",
    "pops.printSchema()"
   ]
  },
  {
   "cell_type": "code",
   "execution_count": 74,
   "metadata": {},
   "outputs": [],
   "source": [
    "val pops2 = pops.\n",
    "    select(explode($\"total_population\").as(\"pop_array\")).\n",
    "    select(\"pop_array.date\", \"pop_array.population\")\n"
   ]
  },
  {
   "cell_type": "code",
   "execution_count": 75,
   "metadata": {},
   "outputs": [
    {
     "name": "stdout",
     "output_type": "stream",
     "text": [
      "+----------+----------+\n",
      "|      date|population|\n",
      "+----------+----------+\n",
      "|2017-11-08|1348088878|\n",
      "|2017-11-09|1348131714|\n",
      "|2017-11-08| 130782294|\n",
      "|2017-11-09| 130786594|\n",
      "|2017-11-08| 327309303|\n",
      "|2017-11-09| 327315752|\n",
      "+----------+----------+\n",
      "\n"
     ]
    }
   ],
   "source": [
    "pops2.show()"
   ]
  }
 ],
 "metadata": {
  "kernelspec": {
   "display_name": "Spark - Scala",
   "language": "scala",
   "name": "spark_scala"
  },
  "language_info": {
   "file_extension": ".scala",
   "name": "scala",
   "version": "2.11.8"
  }
 },
 "nbformat": 4,
 "nbformat_minor": 2
}
