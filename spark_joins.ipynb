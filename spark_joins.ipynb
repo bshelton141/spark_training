{
 "cells": [
  {
   "cell_type": "markdown",
   "metadata": {},
   "source": [
    "# Spark Join Examples\n",
    "\n",
    "The following code provides examples of different join scenarios that can be run in Spark with Scala. The DataFrames created and joined in these examples reference the [2017 NBA All-Star starting 5 players](https://www.cbssports.com/nba/news/nba-all-star-game-2017-rosters-lineup-starters-reserves/) from both the Eastern Conference and the Western Conference. These are very small DataFrames that can be easily created and joined for example purposes. But the power of Spark lies in its ability to run much larger joins at scale.\n",
    "\n",
    "Let's start by creating the a DataFrame of the starting players, their team id's, and the positions that they play:"
   ]
  },
  {
   "cell_type": "code",
   "execution_count": 2,
   "metadata": {},
   "outputs": [
    {
     "name": "stdout",
     "output_type": "stream",
     "text": [
      "+---+----------------+-------+---------+\n",
      "| id|            name|team_id| position|\n",
      "+---+----------------+-------+---------+\n",
      "|  0|    Kyrie Irving|      2|      [1]|\n",
      "|  1|   DeMar DeRozan|      4|      [2]|\n",
      "|  2|    LeBron James|      2|[3, 4, 5]|\n",
      "|  3|G. Antetokounmpo|      0|[3, 4, 5]|\n",
      "|  4|    Jimmy Butler|      1|[3, 4, 5]|\n",
      "|  5|   Stephen Curry|      6|      [1]|\n",
      "|  6|    James Harden|     10|      [2]|\n",
      "|  7|    Kevin Durant|      6|      [3]|\n",
      "|  8|   Kawhi Leonard|      3|      [4]|\n",
      "|  9|   Anthony Davis|      8|      [5]|\n",
      "+---+----------------+-------+---------+\n",
      "\n"
     ]
    }
   ],
   "source": [
    "val sqlC = new org.apache.spark.sql.SQLContext(sc)\n",
    "import sqlC.implicits._\n",
    "\n",
    "\n",
    "//Create the players DataFrame\n",
    "val players = Seq(\n",
    "    (0, \"Kyrie Irving\", 2, Seq(1)),\n",
    "    (1, \"DeMar DeRozan\", 4, Seq(2)),\n",
    "    (2, \"LeBron James\", 2, Seq(3, 4, 5)),\n",
    "    (3, \"G. Antetokounmpo\", 0, Seq(3, 4, 5)),\n",
    "    (4, \"Jimmy Butler\", 1, Seq(3, 4, 5)),\n",
    "    (5, \"Stephen Curry\", 6, Seq(1)),\n",
    "    (6, \"James Harden\", 10, Seq(2)),\n",
    "    (7, \"Kevin Durant\", 6, Seq(3)),\n",
    "    (8, \"Kawhi Leonard\", 3, Seq(4)),\n",
    "    (9, \"Anthony Davis\", 8, Seq(5))).\n",
    "  toDF(\"id\", \"name\", \"team_id\", \"position\")\n",
    "\n",
    "players.show()"
   ]
  },
  {
   "cell_type": "markdown",
   "metadata": {},
   "source": [
    "Now we will create a new DataFrame containing team names and the conference that they play in:"
   ]
  },
  {
   "cell_type": "code",
   "execution_count": 3,
   "metadata": {},
   "outputs": [
    {
     "name": "stdout",
     "output_type": "stream",
     "text": [
      "+---+---------+----------+\n",
      "| id|     team|conference|\n",
      "+---+---------+----------+\n",
      "|  0|    Bucks|   Eastern|\n",
      "|  1|    Bulls|   Eastern|\n",
      "|  2|Cavaliers|   Eastern|\n",
      "|  3|    Spurs|   Western|\n",
      "|  4|  Raptors|   Eastern|\n",
      "|  5|    Magic|   Eastern|\n",
      "|  6| Warriors|   Western|\n",
      "|  7|  Celtics|   Eastern|\n",
      "|  8| Pelicans|   Western|\n",
      "|  9|   Lakers|   Western|\n",
      "| 10|  Rockets|   Western|\n",
      "+---+---------+----------+\n",
      "\n"
     ]
    }
   ],
   "source": [
    "//Create the teams DataFrame\n",
    "val teams = Seq(\n",
    "    (0, \"Bucks\", \"Eastern\"),\n",
    "    (1, \"Bulls\", \"Eastern\"),\n",
    "    (2, \"Cavaliers\", \"Eastern\"),\n",
    "    (3, \"Spurs\", \"Western\"),\n",
    "    (4, \"Raptors\", \"Eastern\"),\n",
    "    (5, \"Magic\", \"Eastern\"),\n",
    "    (6, \"Warriors\", \"Western\"),\n",
    "    (7, \"Celtics\", \"Eastern\"),\n",
    "    (8, \"Pelicans\", \"Western\"),\n",
    "    (9, \"Lakers\", \"Western\"),\n",
    "    (10, \"Rockets\", \"Western\")).\n",
    "  toDF(\"id\", \"team\", \"conference\")\n",
    "\n",
    "teams.show()"
   ]
  },
  {
   "cell_type": "markdown",
   "metadata": {},
   "source": [
    "Finally, we'll create another small DataFrame that lists all of the different basketball positions:"
   ]
  },
  {
   "cell_type": "code",
   "execution_count": 9,
   "metadata": {},
   "outputs": [
    {
     "name": "stdout",
     "output_type": "stream",
     "text": [
      "+---+--------------+\n",
      "| id|      position|\n",
      "+---+--------------+\n",
      "|  1|   Point Gaurd|\n",
      "|  2|Shooting Gaurd|\n",
      "|  3| Small Forward|\n",
      "|  4| Power Forward|\n",
      "|  5|        Center|\n",
      "+---+--------------+\n",
      "\n"
     ]
    }
   ],
   "source": [
    "//Create the positions DataFrame\n",
    "val positions = Seq(\n",
    "    (1, \"Point Gaurd\"),\n",
    "    (2, \"Shooting Gaurd\"),\n",
    "    (3, \"Small Forward\"),\n",
    "    (4, \"Power Forward\"),\n",
    "    (5, \"Center\")).\n",
    "  toDF(\"id\", \"position\")\n",
    "\n",
    "positions.show()"
   ]
  },
  {
   "cell_type": "markdown",
   "metadata": {},
   "source": [
    "### Inner-Join\n",
    "\n",
    "The first join we'll create is an inner join that links the player names to their respective teams and conferences. Notice the `.drop` function used below. Since the `players` and the `teams` DataFrames both have a column names *id*, we will drop the `teams` copy of the column. If we did not do this, we would have two columns named *id*."
   ]
  },
  {
   "cell_type": "code",
   "execution_count": 6,
   "metadata": {},
   "outputs": [
    {
     "name": "stdout",
     "output_type": "stream",
     "text": [
      "+---+----------------+-------+---------+---------+----------+\n",
      "| id|            name|team_id| position|     team|conference|\n",
      "+---+----------------+-------+---------+---------+----------+\n",
      "|  0|    Kyrie Irving|      2|      [1]|Cavaliers|   Eastern|\n",
      "|  1|   DeMar DeRozan|      4|      [2]|  Raptors|   Eastern|\n",
      "|  2|    LeBron James|      2|[3, 4, 5]|Cavaliers|   Eastern|\n",
      "|  3|G. Antetokounmpo|      0|[3, 4, 5]|    Bucks|   Eastern|\n",
      "|  4|    Jimmy Butler|      1|[3, 4, 5]|    Bulls|   Eastern|\n",
      "|  5|   Stephen Curry|      6|      [1]| Warriors|   Western|\n",
      "|  6|    James Harden|     10|      [2]|  Rockets|   Western|\n",
      "|  7|    Kevin Durant|      6|      [3]| Warriors|   Western|\n",
      "|  8|   Kawhi Leonard|      3|      [4]|    Spurs|   Western|\n",
      "|  9|   Anthony Davis|      8|      [5]| Pelicans|   Western|\n",
      "+---+----------------+-------+---------+---------+----------+\n",
      "\n"
     ]
    }
   ],
   "source": [
    "//Join the data from the teams DataFrame to the players DataFrame\n",
    "\n",
    "val joinExpr = players.col(\"team_id\") === teams.col(\"id\")\n",
    "\n",
    "players.join(teams, joinExpr, \"inner\").\n",
    "    drop(teams.col(\"id\")).\n",
    "    show()"
   ]
  },
  {
   "cell_type": "markdown",
   "metadata": {},
   "source": [
    "### Outer-Join\n",
    "\n",
    "Now we'll create an outer-join that connects the players to their respective teams and retains the teams that have not players in the All-Star game starting line-ups. Notice that `null` values are used to indicate that no player data exists for the three teams without players."
   ]
  },
  {
   "cell_type": "code",
   "execution_count": 7,
   "metadata": {},
   "outputs": [
    {
     "name": "stdout",
     "output_type": "stream",
     "text": [
      "+---------+----------+----+----------------+-------+---------+\n",
      "|     team|conference|  id|            name|team_id| position|\n",
      "+---------+----------+----+----------------+-------+---------+\n",
      "|    Bucks|   Eastern|   3|G. Antetokounmpo|      0|[3, 4, 5]|\n",
      "|    Bulls|   Eastern|   4|    Jimmy Butler|      1|[3, 4, 5]|\n",
      "|Cavaliers|   Eastern|   2|    LeBron James|      2|[3, 4, 5]|\n",
      "|Cavaliers|   Eastern|   0|    Kyrie Irving|      2|      [1]|\n",
      "|    Spurs|   Western|   8|   Kawhi Leonard|      3|      [4]|\n",
      "|  Raptors|   Eastern|   1|   DeMar DeRozan|      4|      [2]|\n",
      "|    Magic|   Eastern|null|            null|   null|     null|\n",
      "| Warriors|   Western|   7|    Kevin Durant|      6|      [3]|\n",
      "| Warriors|   Western|   5|   Stephen Curry|      6|      [1]|\n",
      "|  Celtics|   Eastern|null|            null|   null|     null|\n",
      "| Pelicans|   Western|   9|   Anthony Davis|      8|      [5]|\n",
      "|   Lakers|   Western|null|            null|   null|     null|\n",
      "|  Rockets|   Western|   6|    James Harden|     10|      [2]|\n",
      "+---------+----------+----+----------------+-------+---------+\n",
      "\n"
     ]
    }
   ],
   "source": [
    "//Outer-Join the data from the players DataFrame to the teams DataFrame\n",
    "\n",
    "//This shows all the team names in the DataFrame\n",
    "//even without players that are started the All-Star game\n",
    "\n",
    "teams.join(players, joinExpr, \"left_outer\").\n",
    "    drop(teams.col(\"id\")).\n",
    "    show()"
   ]
  },
  {
   "cell_type": "markdown",
   "metadata": {},
   "source": [
    "### Anti-Join\n",
    "\n",
    "Semi-joins only retain the information from the primary DataFrame after the join. You can think of it as a type of filter. An *anti-join* is a type of semi-join that retains the values that could **not** be joined to the secondary table.\n",
    "\n",
    "In the case below, we only want to look at which teams in our `teams` DataFrame do not have any players in starting in the NBA All-Star game."
   ]
  },
  {
   "cell_type": "code",
   "execution_count": 60,
   "metadata": {},
   "outputs": [
    {
     "name": "stdout",
     "output_type": "stream",
     "text": [
      "+---+------+----------+\n",
      "| id|  team|conference|\n",
      "+---+------+----------+\n",
      "|  5| Magic|   Eastern|\n",
      "|  9|Lakers|   Western|\n",
      "+---+------+----------+\n",
      "\n"
     ]
    }
   ],
   "source": [
    "//Semi-Join the data from the teams DataFrame to the players DataFrame\n",
    "\n",
    "//This shows only the teams that did not have any starters in the All-Star game\n",
    "\n",
    "teams.join(players, joinExpr, \"left_anti\").show()"
   ]
  },
  {
   "cell_type": "markdown",
   "metadata": {},
   "source": [
    "### Complex Joins\n",
    "\n",
    "The code below shows how to use each player's *position* array to connect them to all position descriptions in the `positions` DataFrame. The Eastern Conference had 3 starters that play the Small Forward position. Since a team needs to have a starter in each position, those 3 players are eligible to play Small Forward, Power Forward, and Center."
   ]
  },
  {
   "cell_type": "code",
   "execution_count": 18,
   "metadata": {},
   "outputs": [
    {
     "name": "stdout",
     "output_type": "stream",
     "text": [
      "+----------------+-------+-----------+---+--------------+\n",
      "|            name|team_id|position_id| id|      position|\n",
      "+----------------+-------+-----------+---+--------------+\n",
      "|    Kyrie Irving|      2|        [1]|  1|   Point Gaurd|\n",
      "|   DeMar DeRozan|      4|        [2]|  2|Shooting Gaurd|\n",
      "|    LeBron James|      2|  [3, 4, 5]|  3| Small Forward|\n",
      "|    LeBron James|      2|  [3, 4, 5]|  4| Power Forward|\n",
      "|    LeBron James|      2|  [3, 4, 5]|  5|        Center|\n",
      "|G. Antetokounmpo|      0|  [3, 4, 5]|  3| Small Forward|\n",
      "|G. Antetokounmpo|      0|  [3, 4, 5]|  4| Power Forward|\n",
      "|G. Antetokounmpo|      0|  [3, 4, 5]|  5|        Center|\n",
      "|    Jimmy Butler|      1|  [3, 4, 5]|  3| Small Forward|\n",
      "|    Jimmy Butler|      1|  [3, 4, 5]|  4| Power Forward|\n",
      "|    Jimmy Butler|      1|  [3, 4, 5]|  5|        Center|\n",
      "|   Stephen Curry|      6|        [1]|  1|   Point Gaurd|\n",
      "|    James Harden|     10|        [2]|  2|Shooting Gaurd|\n",
      "|    Kevin Durant|      6|        [3]|  3| Small Forward|\n",
      "|   Kawhi Leonard|      3|        [4]|  4| Power Forward|\n",
      "|   Anthony Davis|      8|        [5]|  5|        Center|\n",
      "+----------------+-------+-----------+---+--------------+\n",
      "\n"
     ]
    }
   ],
   "source": [
    "//A complex-join that lists all possible positions for each of the All-Star gam starters\n",
    "\n",
    "import org.apache.spark.sql.functions.expr\n",
    "\n",
    "players.\n",
    "    withColumnRenamed(\"position\", \"position_id\").\n",
    "    drop(players.col(\"id\")).\n",
    "    join(positions, expr(\"array_contains(position_id, id)\")).\n",
    "    show()"
   ]
  },
  {
   "cell_type": "code",
   "execution_count": null,
   "metadata": {
    "collapsed": true
   },
   "outputs": [],
   "source": []
  }
 ],
 "metadata": {
  "kernelspec": {
   "display_name": "Spark - Scala",
   "language": "scala",
   "name": "spark_scala"
  },
  "language_info": {
   "file_extension": ".scala",
   "name": "scala",
   "version": "2.11.8"
  }
 },
 "nbformat": 4,
 "nbformat_minor": 2
}
