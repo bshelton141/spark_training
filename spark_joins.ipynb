{
 "cells": [
  {
   "cell_type": "code",
   "execution_count": 50,
   "metadata": {},
   "outputs": [
    {
     "name": "stdout",
     "output_type": "stream",
     "text": [
      "+---+----------------+-------+---------+\n",
      "| id|            name|team_id| position|\n",
      "+---+----------------+-------+---------+\n",
      "|  0|    Kyrie Irving|      7|      [1]|\n",
      "|  1|   DeMar DeRozan|      4|      [2]|\n",
      "|  2|    LeBron James|      2|[3, 4, 5]|\n",
      "|  3|G. Antetokounmpo|      0|[3, 4, 5]|\n",
      "|  4|    Jimmy Butler|      1|[3, 4, 5]|\n",
      "|  5|   Stephen Curry|      6|      [1]|\n",
      "|  6|    James Harden|     10|      [2]|\n",
      "|  7|    Kevin Durant|      6|      [3]|\n",
      "|  8|   Kawhi Leonard|      3|      [4]|\n",
      "|  9|   Anthony Davis|      8|      [5]|\n",
      "+---+----------------+-------+---------+\n",
      "\n"
     ]
    }
   ],
   "source": [
    "val sqlC = new org.apache.spark.sql.SQLContext(sc)\n",
    "import sqlC.implicits._\n",
    "\n",
    "//Create the players DataFrame\n",
    "val players = Seq(\n",
    "    (0, \"Kyrie Irving\", 7, Seq(1)),\n",
    "    (1, \"DeMar DeRozan\", 4, Seq(2)),\n",
    "    (2, \"LeBron James\", 2, Seq(3, 4, 5)),\n",
    "    (3, \"G. Antetokounmpo\", 0, Seq(3, 4, 5)),\n",
    "    (4, \"Jimmy Butler\", 1, Seq(3, 4, 5)),\n",
    "    (5, \"Stephen Curry\", 6, Seq(1)),\n",
    "    (6, \"James Harden\", 10, Seq(2)),\n",
    "    (7, \"Kevin Durant\", 6, Seq(3)),\n",
    "    (8, \"Kawhi Leonard\", 3, Seq(4)),\n",
    "    (9, \"Anthony Davis\", 8, Seq(5))).\n",
    "  toDF(\"id\", \"name\", \"team_id\", \"position\")\n",
    "\n",
    "players.show()"
   ]
  },
  {
   "cell_type": "code",
   "execution_count": 51,
   "metadata": {},
   "outputs": [
    {
     "name": "stdout",
     "output_type": "stream",
     "text": [
      "+---+---------+----------+\n",
      "| id|     team|conference|\n",
      "+---+---------+----------+\n",
      "|  0|    Bucks|   Eastern|\n",
      "|  1|    Bulls|   Eastern|\n",
      "|  2|Cavaliers|   Eastern|\n",
      "|  3|    Spurs|   Western|\n",
      "|  4|  Raptors|   Eastern|\n",
      "|  5|    Magic|   Eastern|\n",
      "|  6| Warriors|   Western|\n",
      "|  7|  Celtics|   Eastern|\n",
      "|  8| Pelicans|   Western|\n",
      "|  9|   Lakers|   Western|\n",
      "| 10|  Rockets|   Western|\n",
      "+---+---------+----------+\n",
      "\n"
     ]
    }
   ],
   "source": [
    "//Create the teams DataFrame\n",
    "val teams = Seq(\n",
    "    (0, \"Bucks\", \"Eastern\"),\n",
    "    (1, \"Bulls\", \"Eastern\"),\n",
    "    (2, \"Cavaliers\", \"Eastern\"),\n",
    "    (3, \"Spurs\", \"Western\"),\n",
    "    (4, \"Raptors\", \"Eastern\"),\n",
    "    (5, \"Magic\", \"Eastern\"),\n",
    "    (6, \"Warriors\", \"Western\"),\n",
    "    (7, \"Celtics\", \"Eastern\"),\n",
    "    (8, \"Pelicans\", \"Western\"),\n",
    "    (9, \"Lakers\", \"Western\"),\n",
    "    (10, \"Rockets\", \"Western\")).\n",
    "  toDF(\"id\", \"team\", \"conference\")\n",
    "\n",
    "teams.show()"
   ]
  },
  {
   "cell_type": "code",
   "execution_count": 32,
   "metadata": {},
   "outputs": [
    {
     "name": "stdout",
     "output_type": "stream",
     "text": [
      "+---+--------------+\n",
      "| id|      position|\n",
      "+---+--------------+\n",
      "|  1|   Point Gaurd|\n",
      "|  2|Shooting Gaurd|\n",
      "|  3| Small Forward|\n",
      "|  4| Power Forward|\n",
      "|  5|        Center|\n",
      "+---+--------------+\n",
      "\n"
     ]
    }
   ],
   "source": [
    "//Create the positions DataFrame\n",
    "val positions = Seq(\n",
    "    (1, \"Point Gaurd\"),\n",
    "    (2, \"Shooting Gaurd\"),\n",
    "    (3, \"Small Forward\"),\n",
    "    (4, \"Power Forward\"),\n",
    "    (5, \"Center\")).\n",
    "  toDF(\"id\", \"position\")\n",
    "\n",
    "positions.show()"
   ]
  },
  {
   "cell_type": "code",
   "execution_count": 52,
   "metadata": {},
   "outputs": [
    {
     "name": "stdout",
     "output_type": "stream",
     "text": [
      "+---+----------------+-------+---------+---------+----------+\n",
      "| id|            name|team_id| position|     team|conference|\n",
      "+---+----------------+-------+---------+---------+----------+\n",
      "|  0|    Kyrie Irving|      7|      [1]|  Celtics|   Eastern|\n",
      "|  1|   DeMar DeRozan|      4|      [2]|  Raptors|   Eastern|\n",
      "|  2|    LeBron James|      2|[3, 4, 5]|Cavaliers|   Eastern|\n",
      "|  3|G. Antetokounmpo|      0|[3, 4, 5]|    Bucks|   Eastern|\n",
      "|  4|    Jimmy Butler|      1|[3, 4, 5]|    Bulls|   Eastern|\n",
      "|  5|   Stephen Curry|      6|      [1]| Warriors|   Western|\n",
      "|  6|    James Harden|     10|      [2]|  Rockets|   Western|\n",
      "|  7|    Kevin Durant|      6|      [3]| Warriors|   Western|\n",
      "|  8|   Kawhi Leonard|      3|      [4]|    Spurs|   Western|\n",
      "|  9|   Anthony Davis|      8|      [5]| Pelicans|   Western|\n",
      "+---+----------------+-------+---------+---------+----------+\n",
      "\n"
     ]
    }
   ],
   "source": [
    "//Join the data from the teams DataFrame to the players DataFrame\n",
    "\n",
    "val joinExpr = players.col(\"team_id\") === teams.col(\"id\")\n",
    "\n",
    "players.join(teams, joinExpr, \"inner\").\n",
    "    drop(teams.col(\"id\")).\n",
    "    show()"
   ]
  },
  {
   "cell_type": "code",
   "execution_count": 58,
   "metadata": {},
   "outputs": [
    {
     "name": "stdout",
     "output_type": "stream",
     "text": [
      "+---------+----------+----+----------------+-------+---------+\n",
      "|     team|conference|  id|            name|team_id| position|\n",
      "+---------+----------+----+----------------+-------+---------+\n",
      "|    Bucks|   Eastern|   3|G. Antetokounmpo|      0|[3, 4, 5]|\n",
      "|    Bulls|   Eastern|   4|    Jimmy Butler|      1|[3, 4, 5]|\n",
      "|Cavaliers|   Eastern|   2|    LeBron James|      2|[3, 4, 5]|\n",
      "|    Spurs|   Western|   8|   Kawhi Leonard|      3|      [4]|\n",
      "|  Raptors|   Eastern|   1|   DeMar DeRozan|      4|      [2]|\n",
      "|    Magic|   Eastern|null|            null|   null|     null|\n",
      "| Warriors|   Western|   7|    Kevin Durant|      6|      [3]|\n",
      "| Warriors|   Western|   5|   Stephen Curry|      6|      [1]|\n",
      "|  Celtics|   Eastern|   0|    Kyrie Irving|      7|      [1]|\n",
      "| Pelicans|   Western|   9|   Anthony Davis|      8|      [5]|\n",
      "|   Lakers|   Western|null|            null|   null|     null|\n",
      "|  Rockets|   Western|   6|    James Harden|     10|      [2]|\n",
      "+---------+----------+----+----------------+-------+---------+\n",
      "\n"
     ]
    }
   ],
   "source": [
    "//Outer-Join the data from the players DataFrame to the teams DataFrame\n",
    "\n",
    "//This shows all the team names in the DataFrame\n",
    "//even without players that are started the All-Star game\n",
    "\n",
    "teams.join(players, joinExpr, \"left_outer\").\n",
    "    drop(teams.col(\"id\")).\n",
    "    show()"
   ]
  },
  {
   "cell_type": "code",
   "execution_count": 60,
   "metadata": {},
   "outputs": [
    {
     "name": "stdout",
     "output_type": "stream",
     "text": [
      "+---+------+----------+\n",
      "| id|  team|conference|\n",
      "+---+------+----------+\n",
      "|  5| Magic|   Eastern|\n",
      "|  9|Lakers|   Western|\n",
      "+---+------+----------+\n",
      "\n"
     ]
    }
   ],
   "source": [
    "//Semi-Join the data from the teams DataFrame to the players DataFrame\n",
    "\n",
    "//This shows only the teams that did not have any starters in the All-Star game\n",
    "\n",
    "teams.join(players, joinExpr, \"left_anti\").show()"
   ]
  },
  {
   "cell_type": "code",
   "execution_count": null,
   "metadata": {
    "collapsed": true
   },
   "outputs": [],
   "source": []
  }
 ],
 "metadata": {
  "kernelspec": {
   "display_name": "Spark - Scala",
   "language": "scala",
   "name": "spark_scala"
  },
  "language_info": {
   "file_extension": ".scala",
   "name": "scala",
   "version": "2.11.8"
  }
 },
 "nbformat": 4,
 "nbformat_minor": 2
}
